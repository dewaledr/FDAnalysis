{
 "cells": [
  {
   "cell_type": "markdown",
   "metadata": {},
   "source": [
    "#  Investigating the Anscombe's Quartet\n",
    "## Author:      Francis Adepoju (G00364694)\n",
    "## Start Date: Oct 24, 2018"
   ]
  },
  {
   "cell_type": "markdown",
   "metadata": {},
   "source": [
    "# Abstract:"
   ]
  },
  {
   "cell_type": "markdown",
   "metadata": {},
   "source": [
    "### Visualization may not be as precise as statistics, but it provides a unique view onto data that can make it much easier to discover interesting structures than numerical methods. Visualization also provides the context necessary to make better choices and to be more careful when fitting models. Anscombe’s Quartet is a case in point, showing that four datasets that have identical statistical properties can indeed be very different."
   ]
  },
  {
   "cell_type": "code",
   "execution_count": null,
   "metadata": {},
   "outputs": [],
   "source": []
  },
  {
   "cell_type": "markdown",
   "metadata": {},
   "source": [
    "# Background:\n",
    "Arguing for Graphics in 1973 - In 1973, Francis J. Anscombe published a paper titled, Graphs in Statistical Analysis. The idea of using graphical methods had been established relatively recently by John Tukey, but there was evidently still a lot of skepticism. Anscombe first lists some notions that textbooks were “indoctrinating” people with, like the idea that “numerical calculations are exact, but graphs are rough.”\n",
    "He then presents a table of numbers. It contains four distinct datasets (hence the name Anscombe’s Quartet), each with statistical properties that are essentially identical: the mean of the x values is 9.0, mean of y values is 7.5, they all have nearly identical variances, correlations, and regression lines (to at least two decimal places).[1]\n",
    "But when plotted, they suddenly appear very different (see below plots).\n"
   ]
  },
  {
   "cell_type": "markdown",
   "metadata": {},
   "source": [
    "- While dataset I appears like many well-behaved datasets that have clean and well-fitting linear models, the others are not served nearly as well. \n",
    "- Dataset II does not have a linear correlation; \n",
    "- dataset III does, but the linear regression is thrown off by an outlier. It would be easy to fit a correct linear model, if only the outlier were spotted and removed before doing so. \n",
    "- Dataset IV, finally, does not fit any kind of linear model, but the single outlier makes keeps the alarm from going off.\n",
    "\n",
    "## How do you find out which model can be applied? \n",
    "Anscombe’s answer is to use graphs: looking at the data immediately reveals a lot of the structure, and makes the analyst aware of “pathological” cases like dataset IV. Computers are not limited to running numerical models, either.\n"
   ]
  },
  {
   "cell_type": "markdown",
   "metadata": {},
   "source": [
    "In addition to showing how useful a clear look onto data can be, Anscombe also raises an interesting question: \n",
    "### what, exactly, is an outlier? \n",
    "He describes a study on education, where he studied per-capita expenditures for public schools in the 50 U.S. states and the District of Columbia. Alaska is a bit of an outlier, so it moves the regression line away from the mainstream. The obvious response would be to remove Alaska from the data before computing the regression. But then, another state will be an outlier. Where do you stop?\n",
    "- Anscombe argues that the correct answer is to show both the regression with Alaska, but also how much it contributes and what happens when it is removed. \n",
    "- The tool here, again, are graphical representations. \n",
    "- Not only the actual data needs to be shown, but also the distances from the regression line (the residuals), and other statistics that help judge how well the model fits. It seems like an obvious thing to do, but presumably was not the norm in the 1970s.\n"
   ]
  },
  {
   "cell_type": "markdown",
   "metadata": {},
   "source": [
    "# Import Libraries and load the anscombe Dataset:"
   ]
  },
  {
   "cell_type": "code",
   "execution_count": 1,
   "metadata": {},
   "outputs": [],
   "source": [
    "import numpy as np\n",
    "import pandas as pd\n",
    "import matplotlib.pyplot as plt\n",
    "import seaborn as sns\n",
    "\n",
    "import statsmodels.api as sm\n",
    "import statsmodels.formula.api as smf\n",
    "import scipy.linalg as sl\n",
    "\n",
    "# !!!\n",
    "# Works... Can load these datasets from seaborn libraries!!!\n",
    "#import seaborn as sns\n",
    "#irisData = sns.load_dataset(\"iris\")\n",
    "#print(irisData)"
   ]
  },
  {
   "cell_type": "code",
   "execution_count": 2,
   "metadata": {
    "scrolled": false
   },
   "outputs": [],
   "source": [
    "# Load the anscombes dataset\n",
    "# df = pd.read_csv(\"https://github.com/dewaledr/FDAnalysis/blob/master/anscombeHeaded.csv\")\n",
    "# df = pd.read_csv(\"https://raw.githubusercontent.com/dewaledr/FDAnalysis/master/anscombeHeaded.csv\")\n",
    "# df  = pd.read_csv(\"anscombeHeaded.csv\")\n",
    "\n",
    "sns.set_context(\"talk\")\n",
    "anscombe = sns.load_dataset(\"anscombe\")\n",
    "#print(anscombe)"
   ]
  },
  {
   "cell_type": "code",
   "execution_count": 3,
   "metadata": {},
   "outputs": [],
   "source": [
    "#df"
   ]
  },
  {
   "cell_type": "markdown",
   "metadata": {},
   "source": [
    "# STEP-1 "
   ]
  },
  {
   "cell_type": "markdown",
   "metadata": {},
   "source": [
    "For each of the four datasets： \n",
    "Compute the mean and variance of both x and y \n",
    "Compute the correlation coefficient between x and y \n",
    "Compute the linear regression line: y = A + Cx + ϵ [2]\n"
   ]
  },
  {
   "cell_type": "code",
   "execution_count": 4,
   "metadata": {},
   "outputs": [
    {
     "name": "stdout",
     "output_type": "stream",
     "text": [
      "mean:\n",
      "           x         y\n",
      "dataset               \n",
      "I        9.0  7.500909\n",
      "II       9.0  7.500909\n",
      "III      9.0  7.500000\n",
      "IV       9.0  7.500909\n",
      "=======================\n",
      "variance:\n",
      "            x         y\n",
      "dataset                \n",
      "I        11.0  4.127269\n",
      "II       11.0  4.127629\n",
      "III      11.0  4.122620\n",
      "IV       11.0  4.123249\n",
      "=======================\n",
      "correlation coefficient:\n",
      "dataset\n",
      "I      0.816421\n",
      "II     0.816237\n",
      "III    0.816287\n",
      "IV     0.816521\n",
      "Name: x, dtype: float64\n"
     ]
    }
   ],
   "source": [
    "print(\"mean:\")\n",
    "print(anscombe.groupby(\"dataset\").mean())\n",
    "print(\"=======================\")\n",
    "print(\"variance:\")\n",
    "print(anscombe.groupby(\"dataset\").var())\n",
    "print(\"=======================\")\n",
    "print(\"correlation coefficient:\")\n",
    "print(anscombe.groupby(\"dataset\").x.corr(anscombe.y))"
   ]
  },
  {
   "cell_type": "code",
   "execution_count": 5,
   "metadata": {},
   "outputs": [
    {
     "name": "stdout",
     "output_type": "stream",
     "text": [
      "Linear regression line of dataset 1\n",
      "y = 3.0000909090909085+0.5000909090909091x\n",
      "Linear regression line of dataset 2\n",
      "y = 3.0009090909090905+0.5x\n",
      "Linear regression line of dataset 3\n",
      "y = 3.0024545454545453+0.49972727272727285x\n",
      "Linear regression line of dataset 4\n",
      "y = 3.0017272727272752+0.49990909090909075x\n"
     ]
    }
   ],
   "source": [
    "#linear regression line [2]\n",
    "setx    = np.zeros((4,11))\n",
    "setx[0] = anscombe[0:11].x\n",
    "setx[1] = anscombe[11:22].x\n",
    "setx[2] = anscombe[22:33].x\n",
    "setx[3] = anscombe[33:44].x\n",
    "sety    = np.zeros((4,11))\n",
    "sety[0] = anscombe[0:11].y\n",
    "sety[1] = anscombe[11:22].y\n",
    "sety[2] = anscombe[22:33].y\n",
    "sety[3] = anscombe[33:44].y\n",
    "for i in range(0,4):\n",
    "    Y = sety[i]\n",
    "    X = setx[i]\n",
    "    X = sm.add_constant(X)\n",
    "    model = sm.OLS(Y, X)\n",
    "    results = model.fit()\n",
    "    print(\"Linear regression line of dataset \" + str(i+1))\n",
    "    print(\"y = \" + str(results.params[0]) + \"+\" + str(results.params[1]) + \"x\")\n"
   ]
  },
  {
   "cell_type": "markdown",
   "metadata": {},
   "source": [
    "# Step-2"
   ]
  },
  {
   "cell_type": "code",
   "execution_count": 6,
   "metadata": {},
   "outputs": [],
   "source": [
    "# Using Seaborn, visualize all four datasets. \n",
    "# hint: use sns.FacetGrid combined with plt.scatter"
   ]
  },
  {
   "cell_type": "code",
   "execution_count": 7,
   "metadata": {},
   "outputs": [
    {
     "data": {
      "image/png": "[encoded data removed]",
      "text/plain": [
       "<Figure size 1152x288 with 4 Axes>"
      ]
     },
     "metadata": {},
     "output_type": "display_data"
    }
   ],
   "source": [
    "sns.lmplot(x=\"x\", y=\"y\", col=\"dataset\", hue=\"dataset\", data=anscombe,\n",
    "           col_wrap=4, ci=None, palette=\"muted\", size=4,\n",
    "           scatter_kws={\"s\": 50, \"alpha\": 1})\n",
    "plt.show()\n"
   ]
  },
  {
   "cell_type": "markdown",
   "metadata": {},
   "source": [
    "# Summary - The Significance of the Anscombe Quartet:\n",
    "As observed in step-1, the four plots all have the same means, variances, and correlation.[3]\n",
    "Overall moral: first- and second-order summary statistics do not often say everything you might want to know about your data, so remember to plot it.\n",
    "\n",
    "The last two plots show that these summary statistics are sensitive to outliers. This kind of generalization arises often in real life: you might have, say, two noisy clouds corresponding to two groups. You observe a correlation induced by the grouping, but after controlling for the group, the correlation disappears.\n",
    "\n",
    "The second plot shows that, even though we are taught that correlation measures a linear association between two variables, we can have high correlations (0.816 in this case) even when the relationship is nonlinear.\n"
   ]
  },
  {
   "cell_type": "markdown",
   "metadata": {},
   "source": [
    "## REFERENCES:\n",
    "- [1] https://eagereyes.org/criticism/anscombes-quartet\n",
    "- [2] https://blog.csdn.net/gleam_/article/details/80636182\n",
    "- [3] https://www.quora.com/What-is-the-significance-of-Anscombes-quartet"
   ]
  },
  {
   "cell_type": "markdown",
   "metadata": {},
   "source": [
    "# End..."
   ]
  },
  {
   "cell_type": "code",
   "execution_count": null,
   "metadata": {},
   "outputs": [],
   "source": []
  }
 ],
 "metadata": {
  "kernelspec": {
   "display_name": "Python 3",
   "language": "python",
   "name": "python3"
  },
  "language_info": {
   "codemirror_mode": {
    "name": "ipython",
    "version": 3
   },
   "file_extension": ".py",
   "mimetype": "text/x-python",
   "name": "python",
   "nbconvert_exporter": "python",
   "pygments_lexer": "ipython3",
   "version": "3.7.1"
  }
 },
 "nbformat": 4,
 "nbformat_minor": 2
}
