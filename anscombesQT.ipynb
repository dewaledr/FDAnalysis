{
 "cells": [
  {
   "cell_type": "markdown",
   "metadata": {},
   "source": [
    "#  Findings on Anscombe's Quartet\n",
    "## Author:      Francis Adepoju (G00364694)\n",
    "## Start Date: Oct 24, 2018"
   ]
  },
  {
   "cell_type": "markdown",
   "metadata": {},
   "source": [
    "##### Abstract:Visualization may not be as precise as statistics, but it provides a unique view onto data that can make it much easier to discover interesting structures than numerical methods. Visualization also provides the context necessary to make better choices and to be more careful when fitting models. Anscombe’s Quartet is a case in point, showing that four datasets that have identical statistical properties can indeed be very different."
   ]
  },
  {
   "cell_type": "code",
   "execution_count": null,
   "metadata": {},
   "outputs": [],
   "source": []
  },
  {
   "cell_type": "markdown",
   "metadata": {},
   "source": [
    "Francis J. Anscombe published a paprt titled 'Graphics in Statistical Analysis' in 1973."
   ]
  },
  {
   "cell_type": "markdown",
   "metadata": {},
   "source": [
    "# Import Libraries and load the anscombe Dataset:"
   ]
  },
  {
   "cell_type": "code",
   "execution_count": 8,
   "metadata": {},
   "outputs": [],
   "source": [
    "import numpy as np\n",
    "import pandas as pd\n",
    "import matplotlib.pyplot as plt\n",
    "import seaborn as sns\n",
    "\n",
    "import statsmodels.api as sm\n",
    "import statsmodels.formula.api as smf\n",
    "import scipy.linalg as sl\n",
    "\n",
    "# Works... Can load these datasets from seaborn libraries!!!\n",
    "#import seaborn as sns\n",
    "#irisData = sns.load_dataset(\"iris\")\n",
    "#print(irisData)"
   ]
  },
  {
   "cell_type": "code",
   "execution_count": 5,
   "metadata": {
    "scrolled": false
   },
   "outputs": [],
   "source": [
    "# Load the anscombes dataset\n",
    "# df = pd.read_csv(\"https://github.com/dewaledr/FDAnalysis/blob/master/anscombeHeaded.csv\")\n",
    "# df = pd.read_csv(\"https://raw.githubusercontent.com/dewaledr/FDAnalysis/master/anscombeHeaded.csv\")\n",
    "# df  = pd.read_csv(\"anscombeHeaded.csv\")\n",
    "\n",
    "anscombe = sns.load_dataset(\"anscombe\")\n",
    "#print(anscombe)"
   ]
  },
  {
   "cell_type": "code",
   "execution_count": 3,
   "metadata": {},
   "outputs": [],
   "source": [
    "#df"
   ]
  },
  {
   "cell_type": "markdown",
   "metadata": {},
   "source": [
    "# STEP-1 "
   ]
  },
  {
   "cell_type": "markdown",
   "metadata": {},
   "source": [
    "For each of the four datasets： \n",
    "Compute the mean and variance of both x and y \n",
    "Compute the correlation coefficient between x and y \n",
    "Compute the linear regression line: y = A + Cx + ϵ \n"
   ]
  },
  {
   "cell_type": "code",
   "execution_count": 6,
   "metadata": {},
   "outputs": [
    {
     "name": "stdout",
     "output_type": "stream",
     "text": [
      "mean:\n",
      "           x         y\n",
      "dataset               \n",
      "I        9.0  7.500909\n",
      "II       9.0  7.500909\n",
      "III      9.0  7.500000\n",
      "IV       9.0  7.500909\n",
      "=======================\n",
      "variance:\n",
      "            x         y\n",
      "dataset                \n",
      "I        11.0  4.127269\n",
      "II       11.0  4.127629\n",
      "III      11.0  4.122620\n",
      "IV       11.0  4.123249\n",
      "=======================\n",
      "correlation coefficient:\n",
      "dataset\n",
      "I      0.816421\n",
      "II     0.816237\n",
      "III    0.816287\n",
      "IV     0.816521\n",
      "Name: x, dtype: float64\n"
     ]
    }
   ],
   "source": [
    "print(\"mean:\")\n",
    "print(anscombe.groupby(\"dataset\").mean())\n",
    "print(\"=======================\")\n",
    "print(\"variance:\")\n",
    "print(anscombe.groupby(\"dataset\").var())\n",
    "print(\"=======================\")\n",
    "print(\"correlation coefficient:\")\n",
    "print(anscombe.groupby(\"dataset\").x.corr(anscombe.y))"
   ]
  },
  {
   "cell_type": "code",
   "execution_count": 9,
   "metadata": {},
   "outputs": [
    {
     "name": "stdout",
     "output_type": "stream",
     "text": [
      "Linear regression line of dataset 1\n",
      "y = 3.0000909090909085+0.5000909090909091x\n",
      "Linear regression line of dataset 2\n",
      "y = 3.0009090909090905+0.5x\n",
      "Linear regression line of dataset 3\n",
      "y = 3.0024545454545453+0.49972727272727285x\n",
      "Linear regression line of dataset 4\n",
      "y = 3.0017272727272752+0.49990909090909075x\n"
     ]
    }
   ],
   "source": [
    "#linear regression line\n",
    "setx = np.zeros((4,11))\n",
    "setx[0] = anscombe[0:11].x\n",
    "setx[1] = anscombe[11:22].x\n",
    "setx[2] = anscombe[22:33].x\n",
    "setx[3] = anscombe[33:44].x\n",
    "sety = np.zeros((4,11))\n",
    "sety[0] = anscombe[0:11].y\n",
    "sety[1] = anscombe[11:22].y\n",
    "sety[2] = anscombe[22:33].y\n",
    "sety[3] = anscombe[33:44].y\n",
    "for i in range(0,4):\n",
    "    Y = sety[i]\n",
    "    X = setx[i]\n",
    "    X = sm.add_constant(X)\n",
    "    model = sm.OLS(Y, X)\n",
    "    results = model.fit()\n",
    "    print(\"Linear regression line of dataset \" + str(i+1))\n",
    "    print(\"y = \" + str(results.params[0]) + \"+\" + str(results.params[1]) + \"x\")\n"
   ]
  },
  {
   "cell_type": "code",
   "execution_count": null,
   "metadata": {},
   "outputs": [],
   "source": []
  }
 ],
 "metadata": {
  "kernelspec": {
   "display_name": "Python 3",
   "language": "python",
   "name": "python3"
  },
  "language_info": {
   "codemirror_mode": {
    "name": "ipython",
    "version": 3
   },
   "file_extension": ".py",
   "mimetype": "text/x-python",
   "name": "python",
   "nbconvert_exporter": "python",
   "pygments_lexer": "ipython3",
   "version": "3.6.5"
  }
 },
 "nbformat": 4,
 "nbformat_minor": 2
}
